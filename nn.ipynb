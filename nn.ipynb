{
 "cells": [
  {
   "cell_type": "markdown",
   "metadata": {},
   "source": [
    "In this homework, you need to implement a neural network class in Python without using\n",
    "any framework library (i.e., tensorflow, keras, pytorch etc.). You can use numpy, pandas,\n",
    "math or any helper libraries.\n",
    "\n",
    "Your neural network class should have following properties:\n",
    "- Parametric input size\n",
    "- Parametric output size\n",
    "- Just implement fully connected layers; any number of such layers can be added\n",
    "(Let’s keep it simple, no convolution, recurrent or other types of layers are needed!)\n",
    "- At least 2 activation function alternatives for each layer (i.e., tanh, sigmoid)\n",
    "- At least 2 loss function alternatives for output layer (i.e., mse, rmse)\n",
    "- It should print training errors during training.\n",
    "\n",
    "\n",
    "Your neural network should have any necessary methods/functions of your choice. But do\n",
    "not forget to include the following method/function names:\n",
    "\n",
    "- fit/train: trains the neural network\n",
    "- predict: makes prediction for the input data\n",
    "\n",
    "\n",
    "Using your neural network class, train a neural network and make predictions on\n",
    "data to show the working and performance of your implementation. You should\n",
    "submit the data you used with a file name: nn_data.csv\n",
    "Optionally, you can implement a softmax function for the output layer that identifies\n",
    "which prediction class is the output. By using the softmax function, it will be easy to\n",
    "understand the output of the predictions.\n"
   ]
  },
  {
   "cell_type": "code",
   "execution_count": 1,
   "metadata": {},
   "outputs": [
    {
     "data": {
      "text/html": [
       "<div>\n",
       "<style scoped>\n",
       "    .dataframe tbody tr th:only-of-type {\n",
       "        vertical-align: middle;\n",
       "    }\n",
       "\n",
       "    .dataframe tbody tr th {\n",
       "        vertical-align: top;\n",
       "    }\n",
       "\n",
       "    .dataframe thead th {\n",
       "        text-align: right;\n",
       "    }\n",
       "</style>\n",
       "<table border=\"1\" class=\"dataframe\">\n",
       "  <thead>\n",
       "    <tr style=\"text-align: right;\">\n",
       "      <th></th>\n",
       "      <th>label</th>\n",
       "      <th>pixel0</th>\n",
       "      <th>pixel1</th>\n",
       "      <th>pixel2</th>\n",
       "      <th>pixel3</th>\n",
       "      <th>pixel4</th>\n",
       "      <th>pixel5</th>\n",
       "      <th>pixel6</th>\n",
       "      <th>pixel7</th>\n",
       "      <th>pixel8</th>\n",
       "      <th>...</th>\n",
       "      <th>pixel774</th>\n",
       "      <th>pixel775</th>\n",
       "      <th>pixel776</th>\n",
       "      <th>pixel777</th>\n",
       "      <th>pixel778</th>\n",
       "      <th>pixel779</th>\n",
       "      <th>pixel780</th>\n",
       "      <th>pixel781</th>\n",
       "      <th>pixel782</th>\n",
       "      <th>pixel783</th>\n",
       "    </tr>\n",
       "  </thead>\n",
       "  <tbody>\n",
       "    <tr>\n",
       "      <th>0</th>\n",
       "      <td>1</td>\n",
       "      <td>0</td>\n",
       "      <td>0</td>\n",
       "      <td>0</td>\n",
       "      <td>0</td>\n",
       "      <td>0</td>\n",
       "      <td>0</td>\n",
       "      <td>0</td>\n",
       "      <td>0</td>\n",
       "      <td>0</td>\n",
       "      <td>...</td>\n",
       "      <td>0</td>\n",
       "      <td>0</td>\n",
       "      <td>0</td>\n",
       "      <td>0</td>\n",
       "      <td>0</td>\n",
       "      <td>0</td>\n",
       "      <td>0</td>\n",
       "      <td>0</td>\n",
       "      <td>0</td>\n",
       "      <td>0</td>\n",
       "    </tr>\n",
       "    <tr>\n",
       "      <th>1</th>\n",
       "      <td>0</td>\n",
       "      <td>0</td>\n",
       "      <td>0</td>\n",
       "      <td>0</td>\n",
       "      <td>0</td>\n",
       "      <td>0</td>\n",
       "      <td>0</td>\n",
       "      <td>0</td>\n",
       "      <td>0</td>\n",
       "      <td>0</td>\n",
       "      <td>...</td>\n",
       "      <td>0</td>\n",
       "      <td>0</td>\n",
       "      <td>0</td>\n",
       "      <td>0</td>\n",
       "      <td>0</td>\n",
       "      <td>0</td>\n",
       "      <td>0</td>\n",
       "      <td>0</td>\n",
       "      <td>0</td>\n",
       "      <td>0</td>\n",
       "    </tr>\n",
       "    <tr>\n",
       "      <th>2</th>\n",
       "      <td>1</td>\n",
       "      <td>0</td>\n",
       "      <td>0</td>\n",
       "      <td>0</td>\n",
       "      <td>0</td>\n",
       "      <td>0</td>\n",
       "      <td>0</td>\n",
       "      <td>0</td>\n",
       "      <td>0</td>\n",
       "      <td>0</td>\n",
       "      <td>...</td>\n",
       "      <td>0</td>\n",
       "      <td>0</td>\n",
       "      <td>0</td>\n",
       "      <td>0</td>\n",
       "      <td>0</td>\n",
       "      <td>0</td>\n",
       "      <td>0</td>\n",
       "      <td>0</td>\n",
       "      <td>0</td>\n",
       "      <td>0</td>\n",
       "    </tr>\n",
       "    <tr>\n",
       "      <th>3</th>\n",
       "      <td>4</td>\n",
       "      <td>0</td>\n",
       "      <td>0</td>\n",
       "      <td>0</td>\n",
       "      <td>0</td>\n",
       "      <td>0</td>\n",
       "      <td>0</td>\n",
       "      <td>0</td>\n",
       "      <td>0</td>\n",
       "      <td>0</td>\n",
       "      <td>...</td>\n",
       "      <td>0</td>\n",
       "      <td>0</td>\n",
       "      <td>0</td>\n",
       "      <td>0</td>\n",
       "      <td>0</td>\n",
       "      <td>0</td>\n",
       "      <td>0</td>\n",
       "      <td>0</td>\n",
       "      <td>0</td>\n",
       "      <td>0</td>\n",
       "    </tr>\n",
       "    <tr>\n",
       "      <th>4</th>\n",
       "      <td>0</td>\n",
       "      <td>0</td>\n",
       "      <td>0</td>\n",
       "      <td>0</td>\n",
       "      <td>0</td>\n",
       "      <td>0</td>\n",
       "      <td>0</td>\n",
       "      <td>0</td>\n",
       "      <td>0</td>\n",
       "      <td>0</td>\n",
       "      <td>...</td>\n",
       "      <td>0</td>\n",
       "      <td>0</td>\n",
       "      <td>0</td>\n",
       "      <td>0</td>\n",
       "      <td>0</td>\n",
       "      <td>0</td>\n",
       "      <td>0</td>\n",
       "      <td>0</td>\n",
       "      <td>0</td>\n",
       "      <td>0</td>\n",
       "    </tr>\n",
       "  </tbody>\n",
       "</table>\n",
       "<p>5 rows × 785 columns</p>\n",
       "</div>"
      ],
      "text/plain": [
       "   label  pixel0  pixel1  pixel2  pixel3  pixel4  pixel5  pixel6  pixel7  \\\n",
       "0      1       0       0       0       0       0       0       0       0   \n",
       "1      0       0       0       0       0       0       0       0       0   \n",
       "2      1       0       0       0       0       0       0       0       0   \n",
       "3      4       0       0       0       0       0       0       0       0   \n",
       "4      0       0       0       0       0       0       0       0       0   \n",
       "\n",
       "   pixel8  ...  pixel774  pixel775  pixel776  pixel777  pixel778  pixel779  \\\n",
       "0       0  ...         0         0         0         0         0         0   \n",
       "1       0  ...         0         0         0         0         0         0   \n",
       "2       0  ...         0         0         0         0         0         0   \n",
       "3       0  ...         0         0         0         0         0         0   \n",
       "4       0  ...         0         0         0         0         0         0   \n",
       "\n",
       "   pixel780  pixel781  pixel782  pixel783  \n",
       "0         0         0         0         0  \n",
       "1         0         0         0         0  \n",
       "2         0         0         0         0  \n",
       "3         0         0         0         0  \n",
       "4         0         0         0         0  \n",
       "\n",
       "[5 rows x 785 columns]"
      ]
     },
     "execution_count": 1,
     "metadata": {},
     "output_type": "execute_result"
    }
   ],
   "source": [
    "import numpy as np\n",
    "import pandas as pd\n",
    "from matplotlib import pyplot as plt\n",
    "\n",
    "data = pd.read_csv('data/train.csv')\n",
    "data.head()"
   ]
  },
  {
   "cell_type": "code",
   "execution_count": 2,
   "metadata": {},
   "outputs": [
    {
     "data": {
      "text/plain": [
       "array([[7, 0, 0, ..., 0, 0, 0],\n",
       "       [5, 0, 0, ..., 0, 0, 0],\n",
       "       [1, 0, 0, ..., 0, 0, 0],\n",
       "       ...,\n",
       "       [0, 0, 0, ..., 0, 0, 0],\n",
       "       [6, 0, 0, ..., 0, 0, 0],\n",
       "       [8, 0, 0, ..., 0, 0, 0]], dtype=int64)"
      ]
     },
     "execution_count": 2,
     "metadata": {},
     "output_type": "execute_result"
    }
   ],
   "source": [
    "data = np.array(data)\n",
    "m, n = data.shape\n",
    "np.random.shuffle(data) # shuffle before splitting into dev and training sets\n",
    "data"
   ]
  },
  {
   "cell_type": "code",
   "execution_count": 3,
   "metadata": {},
   "outputs": [],
   "source": [
    "data_dev = data[0:1000].T\n",
    "Y_dev = data_dev[0]\n",
    "X_dev = data_dev[1:n]\n",
    "X_dev = X_dev / 255.\n",
    "\n",
    "data_train = data[1000:m].T\n",
    "Y_train = data_train[0]\n",
    "X_train = data_train[1:n]\n",
    "X_train = X_train / 255.\n",
    "_,m_train = X_train.shape"
   ]
  },
  {
   "cell_type": "code",
   "execution_count": 4,
   "metadata": {},
   "outputs": [
    {
     "data": {
      "text/plain": [
       "array([5, 4, 4, ..., 0, 6, 8], dtype=int64)"
      ]
     },
     "execution_count": 4,
     "metadata": {},
     "output_type": "execute_result"
    }
   ],
   "source": [
    "Y_train"
   ]
  },
  {
   "cell_type": "code",
   "execution_count": 5,
   "metadata": {},
   "outputs": [],
   "source": [
    "def init_params():\n",
    "    W1 = np.random.rand(10, 784) - 0.5\n",
    "    b1 = np.random.rand(10, 1) - 0.5\n",
    "    W2 = np.random.rand(10, 10) - 0.5\n",
    "    b2 = np.random.rand(10, 1) - 0.5\n",
    "    return W1, b1, W2, b2\n",
    "\n",
    "def ReLU(Z):\n",
    "    return np.maximum(Z, 0)\n",
    "\n",
    "def softmax(Z):\n",
    "    A = np.exp(Z) / sum(np.exp(Z))\n",
    "    return A\n",
    "    \n",
    "def forward_prop(W1, b1, W2, b2, X):\n",
    "    Z1 = W1.dot(X) + b1\n",
    "    A1 = ReLU(Z1)\n",
    "    Z2 = W2.dot(A1) + b2\n",
    "    A2 = softmax(Z2)\n",
    "    return Z1, A1, Z2, A2\n",
    "\n",
    "def ReLU_deriv(Z):\n",
    "    return Z > 0\n",
    "\n",
    "def one_hot(Y):\n",
    "    one_hot_Y = np.zeros((Y.size, Y.max() + 1))\n",
    "    one_hot_Y[np.arange(Y.size), Y] = 1\n",
    "    one_hot_Y = one_hot_Y.T\n",
    "    return one_hot_Y\n",
    "\n",
    "def backward_prop(Z1, A1, Z2, A2, W1, W2, X, Y):\n",
    "    one_hot_Y = one_hot(Y)\n",
    "    dZ2 = A2 - one_hot_Y\n",
    "    dW2 = 1 / m * dZ2.dot(A1.T)\n",
    "    db2 = 1 / m * np.sum(dZ2)\n",
    "    dZ1 = W2.T.dot(dZ2) * ReLU_deriv(Z1)\n",
    "    dW1 = 1 / m * dZ1.dot(X.T)\n",
    "    db1 = 1 / m * np.sum(dZ1)\n",
    "    return dW1, db1, dW2, db2\n",
    "\n",
    "def update_params(W1, b1, W2, b2, dW1, db1, dW2, db2, alpha):\n",
    "    W1 = W1 - alpha * dW1\n",
    "    b1 = b1 - alpha * db1    \n",
    "    W2 = W2 - alpha * dW2  \n",
    "    b2 = b2 - alpha * db2    \n",
    "    return W1, b1, W2, b2"
   ]
  },
  {
   "cell_type": "code",
   "execution_count": 6,
   "metadata": {},
   "outputs": [],
   "source": [
    "def get_predictions(A2):\n",
    "    return np.argmax(A2, 0)\n",
    "\n",
    "def get_accuracy(predictions, Y):\n",
    "    print(predictions, Y)\n",
    "    return np.sum(predictions == Y) / Y.size\n",
    "\n",
    "def gradient_descent(X, Y, alpha, iterations):\n",
    "    W1, b1, W2, b2 = init_params()\n",
    "    for i in range(iterations):\n",
    "        Z1, A1, Z2, A2 = forward_prop(W1, b1, W2, b2, X)\n",
    "        dW1, db1, dW2, db2 = backward_prop(Z1, A1, Z2, A2, W1, W2, X, Y)\n",
    "        W1, b1, W2, b2 = update_params(W1, b1, W2, b2, dW1, db1, dW2, db2, alpha)\n",
    "        if i % 10 == 0:\n",
    "            print(\"Iteration: \", i)\n",
    "            predictions = get_predictions(A2)\n",
    "            print(get_accuracy(predictions, Y))\n",
    "    return W1, b1, W2, b2"
   ]
  },
  {
   "cell_type": "code",
   "execution_count": 7,
   "metadata": {},
   "outputs": [
    {
     "name": "stdout",
     "output_type": "stream",
     "text": [
      "Iteration:  0\n",
      "[0 1 6 ... 4 7 1] [5 4 4 ... 0 6 8]\n",
      "0.10378048780487804\n",
      "Iteration:  10\n",
      "[2 4 6 ... 0 3 9] [5 4 4 ... 0 6 8]\n",
      "0.2339268292682927\n",
      "Iteration:  20\n",
      "[2 4 9 ... 0 9 4] [5 4 4 ... 0 6 8]\n",
      "0.3171707317073171\n",
      "Iteration:  30\n",
      "[2 4 9 ... 0 6 9] [5 4 4 ... 0 6 8]\n",
      "0.3758292682926829\n",
      "Iteration:  40\n",
      "[2 4 9 ... 0 6 9] [5 4 4 ... 0 6 8]\n",
      "0.4136341463414634\n",
      "Iteration:  50\n",
      "[5 4 9 ... 0 6 9] [5 4 4 ... 0 6 8]\n",
      "0.4482926829268293\n",
      "Iteration:  60\n",
      "[5 4 9 ... 0 6 9] [5 4 4 ... 0 6 8]\n",
      "0.4795121951219512\n",
      "Iteration:  70\n",
      "[5 4 9 ... 2 6 9] [5 4 4 ... 0 6 8]\n",
      "0.5063170731707317\n",
      "Iteration:  80\n",
      "[5 4 9 ... 2 6 9] [5 4 4 ... 0 6 8]\n",
      "0.5341951219512195\n",
      "Iteration:  90\n",
      "[5 4 9 ... 2 6 9] [5 4 4 ... 0 6 8]\n",
      "0.5582682926829269\n",
      "Iteration:  100\n",
      "[5 4 9 ... 2 6 9] [5 4 4 ... 0 6 8]\n",
      "0.5796829268292683\n",
      "Iteration:  110\n",
      "[5 4 9 ... 6 6 9] [5 4 4 ... 0 6 8]\n",
      "0.5988292682926829\n",
      "Iteration:  120\n",
      "[5 4 9 ... 6 6 9] [5 4 4 ... 0 6 8]\n",
      "0.6174634146341463\n",
      "Iteration:  130\n",
      "[5 4 9 ... 6 6 7] [5 4 4 ... 0 6 8]\n",
      "0.6375853658536585\n",
      "Iteration:  140\n",
      "[5 4 9 ... 6 6 7] [5 4 4 ... 0 6 8]\n",
      "0.6546829268292683\n",
      "Iteration:  150\n",
      "[5 4 9 ... 0 6 7] [5 4 4 ... 0 6 8]\n",
      "0.6710487804878049\n",
      "Iteration:  160\n",
      "[5 4 9 ... 0 6 7] [5 4 4 ... 0 6 8]\n",
      "0.687219512195122\n",
      "Iteration:  170\n",
      "[5 4 9 ... 0 6 9] [5 4 4 ... 0 6 8]\n",
      "0.7025121951219512\n",
      "Iteration:  180\n",
      "[5 4 9 ... 0 6 9] [5 4 4 ... 0 6 8]\n",
      "0.7167317073170731\n",
      "Iteration:  190\n",
      "[5 4 9 ... 0 6 9] [5 4 4 ... 0 6 8]\n",
      "0.7285365853658536\n",
      "Iteration:  200\n",
      "[5 4 9 ... 0 6 9] [5 4 4 ... 0 6 8]\n",
      "0.7381219512195122\n",
      "Iteration:  210\n",
      "[5 4 9 ... 0 6 9] [5 4 4 ... 0 6 8]\n",
      "0.7468536585365854\n",
      "Iteration:  220\n",
      "[5 4 9 ... 0 6 9] [5 4 4 ... 0 6 8]\n",
      "0.7554878048780488\n",
      "Iteration:  230\n",
      "[5 4 9 ... 0 6 9] [5 4 4 ... 0 6 8]\n",
      "0.7620975609756098\n",
      "Iteration:  240\n",
      "[5 4 9 ... 0 6 9] [5 4 4 ... 0 6 8]\n",
      "0.7678536585365854\n",
      "Iteration:  250\n",
      "[5 4 9 ... 0 6 9] [5 4 4 ... 0 6 8]\n",
      "0.7729756097560976\n",
      "Iteration:  260\n",
      "[5 4 9 ... 0 6 9] [5 4 4 ... 0 6 8]\n",
      "0.7782682926829269\n",
      "Iteration:  270\n",
      "[5 4 9 ... 0 6 9] [5 4 4 ... 0 6 8]\n",
      "0.7822926829268293\n",
      "Iteration:  280\n",
      "[5 4 9 ... 0 6 9] [5 4 4 ... 0 6 8]\n",
      "0.7872682926829269\n",
      "Iteration:  290\n",
      "[5 4 9 ... 0 6 9] [5 4 4 ... 0 6 8]\n",
      "0.7915609756097561\n",
      "Iteration:  300\n",
      "[5 4 9 ... 0 6 9] [5 4 4 ... 0 6 8]\n",
      "0.7953658536585366\n",
      "Iteration:  310\n",
      "[5 4 9 ... 0 6 9] [5 4 4 ... 0 6 8]\n",
      "0.7986829268292683\n",
      "Iteration:  320\n",
      "[5 4 9 ... 0 6 9] [5 4 4 ... 0 6 8]\n",
      "0.8025365853658537\n",
      "Iteration:  330\n",
      "[5 4 9 ... 0 6 9] [5 4 4 ... 0 6 8]\n",
      "0.8057804878048781\n",
      "Iteration:  340\n",
      "[5 4 9 ... 0 6 9] [5 4 4 ... 0 6 8]\n",
      "0.8091463414634147\n",
      "Iteration:  350\n",
      "[5 4 9 ... 0 6 9] [5 4 4 ... 0 6 8]\n",
      "0.8121951219512196\n",
      "Iteration:  360\n",
      "[5 4 9 ... 0 6 9] [5 4 4 ... 0 6 8]\n",
      "0.815\n",
      "Iteration:  370\n",
      "[5 4 9 ... 0 6 9] [5 4 4 ... 0 6 8]\n",
      "0.8175121951219512\n",
      "Iteration:  380\n",
      "[5 4 4 ... 0 6 9] [5 4 4 ... 0 6 8]\n",
      "0.8201951219512195\n",
      "Iteration:  390\n",
      "[5 4 4 ... 0 6 9] [5 4 4 ... 0 6 8]\n",
      "0.8222439024390243\n",
      "Iteration:  400\n",
      "[5 4 4 ... 0 6 9] [5 4 4 ... 0 6 8]\n",
      "0.8247560975609756\n",
      "Iteration:  410\n",
      "[5 4 4 ... 0 6 9] [5 4 4 ... 0 6 8]\n",
      "0.8271463414634146\n",
      "Iteration:  420\n",
      "[5 4 4 ... 0 6 9] [5 4 4 ... 0 6 8]\n",
      "0.8293170731707317\n",
      "Iteration:  430\n",
      "[5 4 4 ... 0 6 9] [5 4 4 ... 0 6 8]\n",
      "0.8317317073170731\n",
      "Iteration:  440\n",
      "[5 4 4 ... 0 6 9] [5 4 4 ... 0 6 8]\n",
      "0.8336341463414634\n",
      "Iteration:  450\n",
      "[5 4 4 ... 0 6 9] [5 4 4 ... 0 6 8]\n",
      "0.8350731707317073\n",
      "Iteration:  460\n",
      "[5 4 4 ... 0 6 9] [5 4 4 ... 0 6 8]\n",
      "0.8368536585365853\n",
      "Iteration:  470\n",
      "[5 4 4 ... 0 6 9] [5 4 4 ... 0 6 8]\n",
      "0.8388780487804878\n",
      "Iteration:  480\n",
      "[5 4 4 ... 0 6 9] [5 4 4 ... 0 6 8]\n",
      "0.8402195121951219\n",
      "Iteration:  490\n",
      "[5 4 4 ... 0 6 9] [5 4 4 ... 0 6 8]\n",
      "0.8417560975609756\n"
     ]
    }
   ],
   "source": [
    "W1, b1, W2, b2 = gradient_descent(X_train, Y_train, 0.10, 500)"
   ]
  },
  {
   "cell_type": "markdown",
   "metadata": {},
   "source": [
    "# ~85% accuracy on training set."
   ]
  },
  {
   "cell_type": "code",
   "execution_count": 8,
   "metadata": {},
   "outputs": [],
   "source": [
    "def make_predictions(X, W1, b1, W2, b2):\n",
    "    _, _, _, A2 = forward_prop(W1, b1, W2, b2, X)\n",
    "    predictions = get_predictions(A2)\n",
    "    return predictions\n",
    "\n",
    "def test_prediction(index, W1, b1, W2, b2):\n",
    "    current_image = X_train[:, index, None]\n",
    "    prediction = make_predictions(X_train[:, index, None], W1, b1, W2, b2)\n",
    "    label = Y_train[index]\n",
    "    print(\"Prediction: \", prediction)\n",
    "    print(\"Label: \", label)\n",
    "    \n",
    "    current_image = current_image.reshape((28, 28)) * 255\n",
    "    plt.gray()\n",
    "    plt.imshow(current_image, interpolation='nearest')\n",
    "    plt.show()"
   ]
  },
  {
   "cell_type": "code",
   "execution_count": 9,
   "metadata": {},
   "outputs": [
    {
     "name": "stdout",
     "output_type": "stream",
     "text": [
      "Prediction:  [5]\n",
      "Label:  5\n"
     ]
    },
    {
     "data": {
      "image/png": "[encoded data removed]",
      "text/plain": [
       "<Figure size 432x288 with 1 Axes>"
      ]
     },
     "metadata": {
      "needs_background": "light"
     },
     "output_type": "display_data"
    },
    {
     "name": "stdout",
     "output_type": "stream",
     "text": [
      "Prediction:  [4]\n",
      "Label:  4\n"
     ]
    },
    {
     "data": {
      "image/png": "[encoded data removed]",
      "text/plain": [
       "<Figure size 432x288 with 1 Axes>"
      ]
     },
     "metadata": {
      "needs_background": "light"
     },
     "output_type": "display_data"
    },
    {
     "name": "stdout",
     "output_type": "stream",
     "text": [
      "Prediction:  [4]\n",
      "Label:  4\n"
     ]
    },
    {
     "data": {
      "image/png": "[encoded data removed]",
      "text/plain": [
       "<Figure size 432x288 with 1 Axes>"
      ]
     },
     "metadata": {
      "needs_background": "light"
     },
     "output_type": "display_data"
    },
    {
     "name": "stdout",
     "output_type": "stream",
     "text": [
      "Prediction:  [8]\n",
      "Label:  5\n"
     ]
    },
    {
     "data": {
      "image/png": "[encoded data removed]",
      "text/plain": [
       "<Figure size 432x288 with 1 Axes>"
      ]
     },
     "metadata": {
      "needs_background": "light"
     },
     "output_type": "display_data"
    }
   ],
   "source": [
    "test_prediction(0, W1, b1, W2, b2)\n",
    "test_prediction(1, W1, b1, W2, b2)\n",
    "test_prediction(2, W1, b1, W2, b2)\n",
    "test_prediction(3, W1, b1, W2, b2)"
   ]
  },
  {
   "cell_type": "markdown",
   "metadata": {},
   "source": [
    "# Finally, let's find the accuracy on the dev set:"
   ]
  },
  {
   "cell_type": "code",
   "execution_count": 10,
   "metadata": {},
   "outputs": [
    {
     "name": "stdout",
     "output_type": "stream",
     "text": [
      "[7 5 1 7 9 6 1 9 7 8 7 6 8 4 2 4 4 8 5 5 6 9 4 6 9 2 0 9 2 2 1 8 4 5 8 0 1\n",
      " 8 3 8 5 2 7 0 3 4 2 4 3 5 2 4 6 4 8 0 2 4 7 9 0 4 9 1 9 7 6 3 2 7 9 8 6 5\n",
      " 2 2 7 0 8 6 5 1 7 9 1 7 3 3 6 9 4 8 1 9 2 0 2 9 3 1 4 1 5 1 6 7 1 5 0 4 6\n",
      " 1 1 4 9 8 5 8 0 2 2 4 7 9 8 1 8 8 1 0 1 0 2 4 1 8 1 9 4 7 5 9 4 3 3 1 1 7\n",
      " 4 9 1 0 4 6 4 5 0 6 1 9 2 3 1 1 2 1 3 8 2 9 6 8 1 2 1 2 4 2 9 0 5 2 7 9 2\n",
      " 5 9 2 4 5 4 0 7 3 5 9 6 9 6 4 4 7 7 0 9 6 3 4 3 1 2 1 0 0 9 5 9 8 4 4 3 7\n",
      " 4 6 9 3 8 2 0 5 1 5 9 9 6 0 3 1 4 2 3 2 8 8 7 7 4 1 3 5 0 8 1 8 6 7 8 1 3\n",
      " 9 1 0 1 0 6 3 3 1 8 1 9 6 4 1 3 0 2 0 0 0 4 0 7 1 1 3 4 2 6 7 6 3 5 6 0 1\n",
      " 6 2 2 6 6 6 8 7 0 4 7 8 2 8 1 6 3 7 1 7 6 3 5 7 8 9 3 3 4 4 0 2 8 4 7 6 1\n",
      " 8 8 2 0 5 9 7 6 9 4 6 4 2 9 4 8 4 9 0 1 3 0 1 9 8 0 3 3 0 3 6 7 8 2 4 9 0\n",
      " 8 0 6 3 3 9 5 2 6 7 4 0 7 3 2 2 9 4 1 8 7 1 9 1 3 8 1 7 2 4 6 4 8 5 9 6 8\n",
      " 7 2 5 0 3 5 5 7 0 2 3 4 8 3 6 2 3 3 0 2 0 9 6 3 5 9 1 1 1 9 2 2 0 0 5 6 3\n",
      " 6 3 9 7 9 3 2 3 3 3 4 3 3 3 2 9 3 3 2 3 3 2 2 1 9 1 7 8 0 5 5 7 6 1 7 3 3\n",
      " 8 7 7 1 6 9 8 7 2 1 1 7 8 1 2 3 6 1 5 8 0 8 5 4 2 3 2 3 9 0 8 5 1 8 2 8 8\n",
      " 3 3 4 3 2 7 9 3 2 6 9 1 4 7 1 7 8 0 4 0 1 9 9 0 1 9 8 1 8 0 5 0 4 7 5 0 4\n",
      " 8 3 7 1 0 0 8 0 1 8 7 1 6 6 7 3 1 2 1 2 8 6 6 9 3 3 6 8 8 4 1 2 7 6 1 8 1\n",
      " 6 2 7 3 0 3 2 9 6 8 0 3 6 9 2 7 4 4 7 9 5 2 6 6 2 9 5 7 2 7 2 4 1 1 1 9 4\n",
      " 9 8 3 2 6 7 0 9 8 8 9 0 6 8 7 0 1 8 2 2 6 2 7 3 9 0 2 0 4 2 0 7 4 3 1 8 4\n",
      " 7 8 9 5 1 6 2 6 2 8 1 1 3 7 0 4 4 9 6 3 1 8 8 3 7 9 0 3 0 2 3 9 5 1 2 7 3\n",
      " 9 6 6 7 3 7 5 2 4 1 2 6 8 8 7 6 1 0 8 4 9 9 3 2 9 8 7 4 3 2 4 0 8 7 0 6 3\n",
      " 6 3 8 7 2 9 1 6 7 8 8 1 3 6 3 9 7 0 3 1 1 9 4 4 0 6 2 1 0 0 2 0 3 7 0 2 2\n",
      " 7 0 7 1 1 9 4 4 5 3 3 9 3 2 9 1 9 2 0 7 2 5 3 7 1 1 5 8 8 6 0 6 9 9 7 8 3\n",
      " 2 4 4 0 5 1 9 1 6 3 7 2 2 0 0 0 8 9 8 0 9 3 9 6 8 5 0 0 7 5 2 2 8 5 4 3 4\n",
      " 8 2 6 2 2 1 3 9 4 8 7 9 1 3 3 6 2 5 4 7 0 8 5 1 5 4 2 0 7 0 7 4 5 0 8 1 1\n",
      " 9 8 9 3 4 1 4 7 6 2 2 1 3 6 8 3 9 3 2 2 8 8 4 3 3 7 4 5 5 0 2 5 0 9 3 4 5\n",
      " 3 6 2 1 0 4 7 8 8 3 1 0 0 7 2 5 2 2 5 6 8 5 5 3 5 3 7 3 1 5 5 1 5 2 0 4 1\n",
      " 7 2 2 7 6 7 7 7 9 6 2 7 4 6 4 8 4 1 7 0 5 0 3 7 7 8 1 3 8 3 5 3 6 2 5 5 2\n",
      " 6] [7 5 1 7 9 6 1 4 9 8 7 6 8 4 2 4 4 8 5 4 6 9 4 6 9 2 0 4 2 8 1 8 4 3 8 0 1\n",
      " 8 5 6 5 2 7 0 3 4 2 9 3 5 2 2 6 4 8 0 2 4 7 9 0 4 9 1 9 7 6 3 2 7 9 8 0 5\n",
      " 2 5 7 0 9 6 5 1 7 9 1 7 3 3 6 9 4 5 1 9 7 0 2 9 3 1 4 1 5 8 6 7 1 5 0 4 6\n",
      " 1 1 4 9 8 5 8 0 2 2 4 7 4 8 1 8 8 1 0 1 0 7 4 1 8 1 9 4 7 5 9 4 3 3 1 1 7\n",
      " 4 9 1 0 4 6 4 8 5 6 1 9 2 3 1 1 2 1 3 8 2 9 6 8 1 2 1 2 4 2 9 0 5 2 9 9 2\n",
      " 8 9 2 4 5 4 0 7 3 5 9 6 9 6 4 8 7 7 3 9 6 3 4 3 1 2 1 5 0 9 6 9 8 4 4 1 7\n",
      " 4 6 9 3 8 2 0 5 1 8 9 9 6 0 3 1 4 2 3 2 8 3 7 2 4 1 3 5 0 8 1 4 6 7 3 1 1\n",
      " 9 1 0 1 0 6 3 3 1 8 1 9 6 4 1 3 0 2 0 0 0 9 0 7 1 2 3 4 2 6 9 6 3 5 6 0 1\n",
      " 6 2 3 6 6 6 8 9 0 4 7 8 2 2 1 6 3 7 1 7 6 3 5 7 8 9 3 3 4 4 0 2 8 4 7 6 1\n",
      " 8 8 8 0 5 7 7 6 8 4 6 4 2 4 4 8 4 9 0 2 8 0 1 9 8 0 3 3 0 3 6 7 8 2 6 9 0\n",
      " 8 0 6 3 3 9 5 2 6 7 4 0 7 3 2 2 9 4 1 8 7 1 9 1 3 8 1 9 2 4 6 4 8 3 5 6 9\n",
      " 7 2 5 0 3 5 5 7 0 2 2 4 8 3 2 2 3 8 7 2 0 9 2 3 5 3 1 1 7 9 2 2 0 5 5 6 3\n",
      " 6 2 7 7 9 8 2 3 1 8 4 3 8 3 2 9 3 3 2 3 3 2 2 1 9 1 7 8 0 5 3 7 1 1 7 3 3\n",
      " 8 7 7 1 6 9 2 7 2 1 1 7 8 1 2 3 6 1 5 8 0 8 6 4 2 3 2 5 9 0 8 5 1 8 2 8 8\n",
      " 8 3 4 2 2 3 9 5 2 6 3 1 4 7 1 7 8 0 9 5 1 4 0 0 1 9 8 1 1 0 0 0 9 9 8 0 9\n",
      " 8 3 7 1 0 0 8 0 1 5 7 1 6 6 7 3 1 2 1 2 8 6 9 7 3 3 6 8 8 4 7 2 7 6 1 8 2\n",
      " 6 1 7 3 0 3 2 9 6 8 0 5 6 9 2 7 4 8 7 9 5 2 3 2 2 9 5 7 2 7 8 4 1 1 1 9 4\n",
      " 9 8 1 2 6 3 0 9 8 8 9 0 6 8 7 0 1 8 4 2 6 2 7 3 9 0 2 0 4 2 0 7 4 3 1 1 4\n",
      " 7 8 9 5 1 6 2 6 2 1 1 8 3 7 0 4 4 4 6 3 1 8 8 3 7 9 0 3 0 2 3 9 5 1 2 7 2\n",
      " 7 6 6 9 3 7 6 2 2 1 2 6 3 8 7 6 1 0 8 4 9 9 3 6 9 8 7 4 3 2 4 0 8 7 0 6 3\n",
      " 6 3 8 7 2 7 1 6 7 8 8 7 3 2 3 9 7 0 3 1 1 9 4 4 0 0 6 1 0 0 2 0 3 7 0 2 7\n",
      " 7 0 7 1 1 9 4 4 5 3 3 9 3 3 9 5 9 2 0 7 2 9 3 7 1 1 5 8 8 6 0 6 9 9 7 8 8\n",
      " 2 4 2 0 5 1 9 1 6 2 7 2 2 5 0 5 8 9 8 0 9 3 9 6 3 0 0 0 7 5 2 2 0 5 4 3 4\n",
      " 8 2 9 2 2 1 3 3 4 1 7 9 1 3 3 6 2 5 4 7 0 8 5 1 5 4 2 0 7 0 7 4 3 0 8 9 1\n",
      " 9 8 9 3 4 1 4 7 6 2 2 1 3 6 8 3 9 3 2 2 2 8 4 3 3 9 4 5 5 5 6 5 4 9 3 4 0\n",
      " 3 6 8 1 3 4 7 8 8 3 1 0 2 7 2 5 2 2 5 6 8 5 5 3 5 3 7 3 1 5 5 1 5 2 0 4 1\n",
      " 7 2 2 7 6 7 7 7 7 6 6 7 4 6 4 6 9 1 9 0 5 0 3 7 7 8 1 3 8 5 5 3 6 2 5 3 2\n",
      " 6]\n"
     ]
    },
    {
     "data": {
      "text/plain": [
       "0.853"
      ]
     },
     "execution_count": 10,
     "metadata": {},
     "output_type": "execute_result"
    }
   ],
   "source": [
    "dev_predictions = make_predictions(X_dev, W1, b1, W2, b2)\n",
    "get_accuracy(dev_predictions, Y_dev)"
   ]
  },
  {
   "cell_type": "markdown",
   "metadata": {},
   "source": [
    "# Still 84% accuracy, so our model generalized from the training data pretty well."
   ]
  }
 ],
 "metadata": {
  "interpreter": {
   "hash": "69a7ec1f19fe8e6b4d60bff3a060a39e42b8b78906aa04442e53246e4bcaf9b9"
  },
  "kernelspec": {
   "display_name": "Python 3.7.0 64-bit",
   "language": "python",
   "name": "python3"
  },
  "language_info": {
   "codemirror_mode": {
    "name": "ipython",
    "version": 3
   },
   "file_extension": ".py",
   "mimetype": "text/x-python",
   "name": "python",
   "nbconvert_exporter": "python",
   "pygments_lexer": "ipython3",
   "version": "3.7.0"
  },
  "orig_nbformat": 4
 },
 "nbformat": 4,
 "nbformat_minor": 2
}
